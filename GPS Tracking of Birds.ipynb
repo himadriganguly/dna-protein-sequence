{
 "cells": [
  {
   "cell_type": "code",
   "execution_count": 67,
   "metadata": {
    "collapsed": false
   },
   "outputs": [
    {
     "name": "stdout",
     "output_type": "stream",
     "text": [
      "<class 'pandas.core.frame.DataFrame'>\n",
      "RangeIndex: 61920 entries, 0 to 61919\n",
      "Data columns (total 8 columns):\n",
      "altitude              61920 non-null int64\n",
      "date_time             61920 non-null object\n",
      "device_info_serial    61920 non-null int64\n",
      "direction             61477 non-null float64\n",
      "latitude              61920 non-null float64\n",
      "longitude             61920 non-null float64\n",
      "speed_2d              61477 non-null float64\n",
      "bird_name             61920 non-null object\n",
      "dtypes: float64(4), int64(2), object(2)\n",
      "memory usage: 3.8+ MB\n"
     ]
    }
   ],
   "source": [
    "import pandas as pd\n",
    "\n",
    "birddata = pd.read_csv(\"data/bird_tracking.csv\")\n",
    "\n",
    "birddata.info()"
   ]
  },
  {
   "cell_type": "code",
   "execution_count": 68,
   "metadata": {
    "collapsed": false
   },
   "outputs": [
    {
     "data": {
      "text/html": [
       "<div>\n",
       "<table border=\"1\" class=\"dataframe\">\n",
       "  <thead>\n",
       "    <tr style=\"text-align: right;\">\n",
       "      <th></th>\n",
       "      <th>altitude</th>\n",
       "      <th>date_time</th>\n",
       "      <th>device_info_serial</th>\n",
       "      <th>direction</th>\n",
       "      <th>latitude</th>\n",
       "      <th>longitude</th>\n",
       "      <th>speed_2d</th>\n",
       "      <th>bird_name</th>\n",
       "    </tr>\n",
       "  </thead>\n",
       "  <tbody>\n",
       "    <tr>\n",
       "      <th>0</th>\n",
       "      <td>71</td>\n",
       "      <td>2013-08-15 00:18:08+00</td>\n",
       "      <td>851</td>\n",
       "      <td>-150.469753</td>\n",
       "      <td>49.419859</td>\n",
       "      <td>2.120733</td>\n",
       "      <td>0.150000</td>\n",
       "      <td>Eric</td>\n",
       "    </tr>\n",
       "    <tr>\n",
       "      <th>1</th>\n",
       "      <td>68</td>\n",
       "      <td>2013-08-15 00:48:07+00</td>\n",
       "      <td>851</td>\n",
       "      <td>-136.151141</td>\n",
       "      <td>49.419880</td>\n",
       "      <td>2.120746</td>\n",
       "      <td>2.438360</td>\n",
       "      <td>Eric</td>\n",
       "    </tr>\n",
       "    <tr>\n",
       "      <th>2</th>\n",
       "      <td>68</td>\n",
       "      <td>2013-08-15 01:17:58+00</td>\n",
       "      <td>851</td>\n",
       "      <td>160.797477</td>\n",
       "      <td>49.420310</td>\n",
       "      <td>2.120885</td>\n",
       "      <td>0.596657</td>\n",
       "      <td>Eric</td>\n",
       "    </tr>\n",
       "    <tr>\n",
       "      <th>3</th>\n",
       "      <td>73</td>\n",
       "      <td>2013-08-15 01:47:51+00</td>\n",
       "      <td>851</td>\n",
       "      <td>32.769360</td>\n",
       "      <td>49.420359</td>\n",
       "      <td>2.120859</td>\n",
       "      <td>0.310161</td>\n",
       "      <td>Eric</td>\n",
       "    </tr>\n",
       "    <tr>\n",
       "      <th>4</th>\n",
       "      <td>69</td>\n",
       "      <td>2013-08-15 02:17:42+00</td>\n",
       "      <td>851</td>\n",
       "      <td>45.191230</td>\n",
       "      <td>49.420331</td>\n",
       "      <td>2.120887</td>\n",
       "      <td>0.193132</td>\n",
       "      <td>Eric</td>\n",
       "    </tr>\n",
       "  </tbody>\n",
       "</table>\n",
       "</div>"
      ],
      "text/plain": [
       "   altitude               date_time  device_info_serial   direction  \\\n",
       "0        71  2013-08-15 00:18:08+00                 851 -150.469753   \n",
       "1        68  2013-08-15 00:48:07+00                 851 -136.151141   \n",
       "2        68  2013-08-15 01:17:58+00                 851  160.797477   \n",
       "3        73  2013-08-15 01:47:51+00                 851   32.769360   \n",
       "4        69  2013-08-15 02:17:42+00                 851   45.191230   \n",
       "\n",
       "    latitude  longitude  speed_2d bird_name  \n",
       "0  49.419859   2.120733  0.150000      Eric  \n",
       "1  49.419880   2.120746  2.438360      Eric  \n",
       "2  49.420310   2.120885  0.596657      Eric  \n",
       "3  49.420359   2.120859  0.310161      Eric  \n",
       "4  49.420331   2.120887  0.193132      Eric  "
      ]
     },
     "execution_count": 68,
     "metadata": {},
     "output_type": "execute_result"
    }
   ],
   "source": [
    "birddata.head()"
   ]
  },
  {
   "cell_type": "code",
   "execution_count": 69,
   "metadata": {
    "collapsed": false
   },
   "outputs": [
    {
     "data": {
      "text/html": [
       "<div>\n",
       "<table border=\"1\" class=\"dataframe\">\n",
       "  <thead>\n",
       "    <tr style=\"text-align: right;\">\n",
       "      <th></th>\n",
       "      <th>altitude</th>\n",
       "      <th>date_time</th>\n",
       "      <th>device_info_serial</th>\n",
       "      <th>direction</th>\n",
       "      <th>latitude</th>\n",
       "      <th>longitude</th>\n",
       "      <th>speed_2d</th>\n",
       "      <th>bird_name</th>\n",
       "    </tr>\n",
       "  </thead>\n",
       "  <tbody>\n",
       "    <tr>\n",
       "      <th>61915</th>\n",
       "      <td>11</td>\n",
       "      <td>2014-04-30 22:00:08+00</td>\n",
       "      <td>833</td>\n",
       "      <td>45.448157</td>\n",
       "      <td>51.352572</td>\n",
       "      <td>3.177151</td>\n",
       "      <td>0.208087</td>\n",
       "      <td>Sanne</td>\n",
       "    </tr>\n",
       "    <tr>\n",
       "      <th>61916</th>\n",
       "      <td>6</td>\n",
       "      <td>2014-04-30 22:29:57+00</td>\n",
       "      <td>833</td>\n",
       "      <td>-112.073055</td>\n",
       "      <td>51.352585</td>\n",
       "      <td>3.177144</td>\n",
       "      <td>1.522662</td>\n",
       "      <td>Sanne</td>\n",
       "    </tr>\n",
       "    <tr>\n",
       "      <th>61917</th>\n",
       "      <td>5</td>\n",
       "      <td>2014-04-30 22:59:52+00</td>\n",
       "      <td>833</td>\n",
       "      <td>69.989037</td>\n",
       "      <td>51.352622</td>\n",
       "      <td>3.177257</td>\n",
       "      <td>3.120545</td>\n",
       "      <td>Sanne</td>\n",
       "    </tr>\n",
       "    <tr>\n",
       "      <th>61918</th>\n",
       "      <td>16</td>\n",
       "      <td>2014-04-30 23:29:43+00</td>\n",
       "      <td>833</td>\n",
       "      <td>88.376373</td>\n",
       "      <td>51.354641</td>\n",
       "      <td>3.181509</td>\n",
       "      <td>0.592115</td>\n",
       "      <td>Sanne</td>\n",
       "    </tr>\n",
       "    <tr>\n",
       "      <th>61919</th>\n",
       "      <td>9</td>\n",
       "      <td>2014-04-30 23:59:34+00</td>\n",
       "      <td>833</td>\n",
       "      <td>149.949008</td>\n",
       "      <td>51.354474</td>\n",
       "      <td>3.181057</td>\n",
       "      <td>0.485489</td>\n",
       "      <td>Sanne</td>\n",
       "    </tr>\n",
       "  </tbody>\n",
       "</table>\n",
       "</div>"
      ],
      "text/plain": [
       "       altitude               date_time  device_info_serial   direction  \\\n",
       "61915        11  2014-04-30 22:00:08+00                 833   45.448157   \n",
       "61916         6  2014-04-30 22:29:57+00                 833 -112.073055   \n",
       "61917         5  2014-04-30 22:59:52+00                 833   69.989037   \n",
       "61918        16  2014-04-30 23:29:43+00                 833   88.376373   \n",
       "61919         9  2014-04-30 23:59:34+00                 833  149.949008   \n",
       "\n",
       "        latitude  longitude  speed_2d bird_name  \n",
       "61915  51.352572   3.177151  0.208087     Sanne  \n",
       "61916  51.352585   3.177144  1.522662     Sanne  \n",
       "61917  51.352622   3.177257  3.120545     Sanne  \n",
       "61918  51.354641   3.181509  0.592115     Sanne  \n",
       "61919  51.354474   3.181057  0.485489     Sanne  "
      ]
     },
     "execution_count": 69,
     "metadata": {},
     "output_type": "execute_result"
    }
   ],
   "source": [
    "birddata.tail()"
   ]
  },
  {
   "cell_type": "code",
   "execution_count": 70,
   "metadata": {
    "collapsed": false
   },
   "outputs": [
    {
     "data": {
      "text/plain": [
       "[<matplotlib.lines.Line2D at 0x7f569be97a58>]"
      ]
     },
     "execution_count": 70,
     "metadata": {},
     "output_type": "execute_result"
    }
   ],
   "source": [
    "import matplotlib.pyplot as plt\n",
    "\n",
    "import numpy as np\n",
    "\n",
    "ix = birddata.bird_name == \"Eric\"\n",
    "\n",
    "x, y = birddata.longitude[ix], birddata.latitude[ix]\n",
    "\n",
    "plt.figure(figsize=(7,7))\n",
    "\n",
    "plt.plot(x,y,\".\")"
   ]
  },
  {
   "cell_type": "code",
   "execution_count": 71,
   "metadata": {
    "collapsed": false
   },
   "outputs": [
    {
     "data": {
      "image/png": "[encoded data removed]",
      "text/plain": [
       "<matplotlib.figure.Figure at 0x7f569db77048>"
      ]
     },
     "metadata": {},
     "output_type": "display_data"
    }
   ],
   "source": [
    "plt.show()"
   ]
  },
  {
   "cell_type": "code",
   "execution_count": 72,
   "metadata": {
    "collapsed": true
   },
   "outputs": [],
   "source": [
    "bird_name = pd.unique(birddata.bird_name)"
   ]
  },
  {
   "cell_type": "code",
   "execution_count": 73,
   "metadata": {
    "collapsed": false
   },
   "outputs": [
    {
     "data": {
      "text/plain": [
       "array(['Eric', 'Nico', 'Sanne'], dtype=object)"
      ]
     },
     "execution_count": 73,
     "metadata": {},
     "output_type": "execute_result"
    }
   ],
   "source": [
    "bird_name"
   ]
  },
  {
   "cell_type": "code",
   "execution_count": 74,
   "metadata": {
    "collapsed": false
   },
   "outputs": [
    {
     "data": {
      "image/png": "[encoded data removed]",
      "text/plain": [
       "<matplotlib.figure.Figure at 0x7f569bea8208>"
      ]
     },
     "metadata": {},
     "output_type": "display_data"
    }
   ],
   "source": [
    "plt.figure(figsize=(7,7))\n",
    "\n",
    "for bird_name in bird_name:\n",
    "    ix = birddata.bird_name == bird_name\n",
    "    x, y = birddata.longitude[ix], birddata.latitude[ix]\n",
    "    plt.plot(x,y,\".\",label=bird_name)\n",
    "\n",
    "plt.xlabel(\"Longitude\")\n",
    "plt.ylabel(\"Latitude\")\n",
    "plt.legend(loc=\"lower right\")\n",
    "plt.show()"
   ]
  },
  {
   "cell_type": "code",
   "execution_count": 75,
   "metadata": {
    "collapsed": false
   },
   "outputs": [],
   "source": [
    "ix = birddata.bird_name == \"Eric\"\n",
    "speed = birddata.speed_2d[ix]\n",
    "#plt.hist(speed)"
   ]
  },
  {
   "cell_type": "code",
   "execution_count": 76,
   "metadata": {
    "collapsed": false
   },
   "outputs": [
    {
     "data": {
      "text/plain": [
       "0    0.150000\n",
       "1    2.438360\n",
       "2    0.596657\n",
       "3    0.310161\n",
       "4    0.193132\n",
       "5    2.904772\n",
       "6    3.080584\n",
       "7    2.199659\n",
       "8    2.640076\n",
       "9    4.592211\n",
       "Name: speed_2d, dtype: float64"
      ]
     },
     "execution_count": 76,
     "metadata": {},
     "output_type": "execute_result"
    }
   ],
   "source": [
    "speed[:10]"
   ]
  },
  {
   "cell_type": "code",
   "execution_count": 77,
   "metadata": {
    "collapsed": false
   },
   "outputs": [
    {
     "data": {
      "text/plain": [
       "(array([ 3.,  1.,  0.,  0.,  1.,  2.,  2.,  0.,  0.,  1.]),\n",
       " array([ 0.15      ,  0.59422108,  1.03844216,  1.48266324,  1.92688432,\n",
       "         2.3711054 ,  2.81532648,  3.25954756,  3.70376864,  4.14798972,\n",
       "         4.5922108 ]),\n",
       " <a list of 10 Patch objects>)"
      ]
     },
     "execution_count": 77,
     "metadata": {},
     "output_type": "execute_result"
    }
   ],
   "source": [
    "plt.hist(speed[:10])"
   ]
  },
  {
   "cell_type": "code",
   "execution_count": 78,
   "metadata": {
    "collapsed": false
   },
   "outputs": [
    {
     "data": {
      "image/png": "[encoded data removed]",
      "text/plain": [
       "<matplotlib.figure.Figure at 0x7f569be4f4e0>"
      ]
     },
     "metadata": {},
     "output_type": "display_data"
    }
   ],
   "source": [
    "plt.show()"
   ]
  },
  {
   "cell_type": "code",
   "execution_count": 79,
   "metadata": {
    "collapsed": false
   },
   "outputs": [
    {
     "data": {
      "text/plain": [
       "0        False\n",
       "1        False\n",
       "2        False\n",
       "3        False\n",
       "4        False\n",
       "5        False\n",
       "6        False\n",
       "7        False\n",
       "8        False\n",
       "9        False\n",
       "10       False\n",
       "11       False\n",
       "12       False\n",
       "13       False\n",
       "14       False\n",
       "15       False\n",
       "16       False\n",
       "17       False\n",
       "18       False\n",
       "19       False\n",
       "20       False\n",
       "21       False\n",
       "22       False\n",
       "23       False\n",
       "24       False\n",
       "25       False\n",
       "26       False\n",
       "27       False\n",
       "28       False\n",
       "29       False\n",
       "         ...  \n",
       "19765    False\n",
       "19766    False\n",
       "19767    False\n",
       "19768    False\n",
       "19769    False\n",
       "19770    False\n",
       "19771     True\n",
       "19772    False\n",
       "19773    False\n",
       "19774    False\n",
       "19775    False\n",
       "19776    False\n",
       "19777    False\n",
       "19778     True\n",
       "19779    False\n",
       "19780    False\n",
       "19781    False\n",
       "19782    False\n",
       "19783    False\n",
       "19784    False\n",
       "19785    False\n",
       "19786    False\n",
       "19787    False\n",
       "19788    False\n",
       "19789    False\n",
       "19790    False\n",
       "19791    False\n",
       "19792    False\n",
       "19793    False\n",
       "19794    False\n",
       "Name: speed_2d, dtype: bool"
      ]
     },
     "execution_count": 79,
     "metadata": {},
     "output_type": "execute_result"
    }
   ],
   "source": [
    "np.isnan(speed)"
   ]
  },
  {
   "cell_type": "code",
   "execution_count": 80,
   "metadata": {
    "collapsed": false
   },
   "outputs": [
    {
     "data": {
      "text/plain": [
       "True"
      ]
     },
     "execution_count": 80,
     "metadata": {},
     "output_type": "execute_result"
    }
   ],
   "source": [
    "np.isnan(speed).any()"
   ]
  },
  {
   "cell_type": "code",
   "execution_count": 81,
   "metadata": {
    "collapsed": false
   },
   "outputs": [
    {
     "data": {
      "text/plain": [
       "85"
      ]
     },
     "execution_count": 81,
     "metadata": {},
     "output_type": "execute_result"
    }
   ],
   "source": [
    "np.sum(np.isnan(speed))"
   ]
  },
  {
   "cell_type": "code",
   "execution_count": 82,
   "metadata": {
    "collapsed": true
   },
   "outputs": [],
   "source": [
    "ind = np.isnan(speed)"
   ]
  },
  {
   "cell_type": "code",
   "execution_count": 83,
   "metadata": {
    "collapsed": false
   },
   "outputs": [
    {
     "data": {
      "text/plain": [
       "0        False\n",
       "1        False\n",
       "2        False\n",
       "3        False\n",
       "4        False\n",
       "5        False\n",
       "6        False\n",
       "7        False\n",
       "8        False\n",
       "9        False\n",
       "10       False\n",
       "11       False\n",
       "12       False\n",
       "13       False\n",
       "14       False\n",
       "15       False\n",
       "16       False\n",
       "17       False\n",
       "18       False\n",
       "19       False\n",
       "20       False\n",
       "21       False\n",
       "22       False\n",
       "23       False\n",
       "24       False\n",
       "25       False\n",
       "26       False\n",
       "27       False\n",
       "28       False\n",
       "29       False\n",
       "         ...  \n",
       "19765    False\n",
       "19766    False\n",
       "19767    False\n",
       "19768    False\n",
       "19769    False\n",
       "19770    False\n",
       "19771     True\n",
       "19772    False\n",
       "19773    False\n",
       "19774    False\n",
       "19775    False\n",
       "19776    False\n",
       "19777    False\n",
       "19778     True\n",
       "19779    False\n",
       "19780    False\n",
       "19781    False\n",
       "19782    False\n",
       "19783    False\n",
       "19784    False\n",
       "19785    False\n",
       "19786    False\n",
       "19787    False\n",
       "19788    False\n",
       "19789    False\n",
       "19790    False\n",
       "19791    False\n",
       "19792    False\n",
       "19793    False\n",
       "19794    False\n",
       "Name: speed_2d, dtype: bool"
      ]
     },
     "execution_count": 83,
     "metadata": {},
     "output_type": "execute_result"
    }
   ],
   "source": [
    "ind"
   ]
  },
  {
   "cell_type": "code",
   "execution_count": 84,
   "metadata": {
    "collapsed": false
   },
   "outputs": [
    {
     "data": {
      "text/plain": [
       "0         True\n",
       "1         True\n",
       "2         True\n",
       "3         True\n",
       "4         True\n",
       "5         True\n",
       "6         True\n",
       "7         True\n",
       "8         True\n",
       "9         True\n",
       "10        True\n",
       "11        True\n",
       "12        True\n",
       "13        True\n",
       "14        True\n",
       "15        True\n",
       "16        True\n",
       "17        True\n",
       "18        True\n",
       "19        True\n",
       "20        True\n",
       "21        True\n",
       "22        True\n",
       "23        True\n",
       "24        True\n",
       "25        True\n",
       "26        True\n",
       "27        True\n",
       "28        True\n",
       "29        True\n",
       "         ...  \n",
       "19765     True\n",
       "19766     True\n",
       "19767     True\n",
       "19768     True\n",
       "19769     True\n",
       "19770     True\n",
       "19771    False\n",
       "19772     True\n",
       "19773     True\n",
       "19774     True\n",
       "19775     True\n",
       "19776     True\n",
       "19777     True\n",
       "19778    False\n",
       "19779     True\n",
       "19780     True\n",
       "19781     True\n",
       "19782     True\n",
       "19783     True\n",
       "19784     True\n",
       "19785     True\n",
       "19786     True\n",
       "19787     True\n",
       "19788     True\n",
       "19789     True\n",
       "19790     True\n",
       "19791     True\n",
       "19792     True\n",
       "19793     True\n",
       "19794     True\n",
       "Name: speed_2d, dtype: bool"
      ]
     },
     "execution_count": 84,
     "metadata": {},
     "output_type": "execute_result"
    }
   ],
   "source": [
    "~ind"
   ]
  },
  {
   "cell_type": "code",
   "execution_count": 85,
   "metadata": {
    "collapsed": false
   },
   "outputs": [
    {
     "data": {
      "text/plain": [
       "(array([  1.77320000e+04,   1.50200000e+03,   3.69000000e+02,\n",
       "          7.80000000e+01,   1.20000000e+01,   7.00000000e+00,\n",
       "          3.00000000e+00,   2.00000000e+00,   3.00000000e+00,\n",
       "          2.00000000e+00]),\n",
       " array([  0.        ,   6.34880658,  12.69761316,  19.04641974,\n",
       "         25.39522632,  31.7440329 ,  38.09283948,  44.44164607,\n",
       "         50.79045265,  57.13925923,  63.48806581]),\n",
       " <a list of 10 Patch objects>)"
      ]
     },
     "execution_count": 85,
     "metadata": {},
     "output_type": "execute_result"
    }
   ],
   "source": [
    "ix = birddata.bird_name == \"Eric\"\n",
    "speed = birddata.speed_2d[ix]\n",
    "ind = np.isnan(speed)\n",
    "plt.hist(speed[~ind])"
   ]
  },
  {
   "cell_type": "code",
   "execution_count": 86,
   "metadata": {
    "collapsed": false
   },
   "outputs": [
    {
     "data": {
      "image/png": "[encoded data removed]",
      "text/plain": [
       "<matplotlib.figure.Figure at 0x7f569be11710>"
      ]
     },
     "metadata": {},
     "output_type": "display_data"
    }
   ],
   "source": [
    "plt.show()"
   ]
  },
  {
   "cell_type": "code",
   "execution_count": 87,
   "metadata": {
    "collapsed": false
   },
   "outputs": [
    {
     "data": {
      "image/png": "[encoded data removed]",
      "text/plain": [
       "<matplotlib.figure.Figure at 0x7f569bebd128>"
      ]
     },
     "metadata": {},
     "output_type": "display_data"
    }
   ],
   "source": [
    "ix = birddata.bird_name == \"Eric\"\n",
    "speed = birddata.speed_2d[ix]\n",
    "ind = np.isnan(speed)\n",
    "plt.hist(speed[~ind],bins=np.linspace(0,30,20), normed=True)\n",
    "plt.xlabel(\"2D speed (m/s)\")\n",
    "plt.ylabel(\"Frequency\")\n",
    "plt.show()"
   ]
  },
  {
   "cell_type": "code",
   "execution_count": 90,
   "metadata": {
    "collapsed": false
   },
   "outputs": [
    {
     "data": {
      "text/plain": [
       "<matplotlib.text.Text at 0x7f569d7ace80>"
      ]
     },
     "execution_count": 90,
     "metadata": {},
     "output_type": "execute_result"
    }
   ],
   "source": [
    "birddata.speed_2d.plot(kind='hist',range=[0,30])\n",
    "plt.xlabel(\"2D speed\")"
   ]
  },
  {
   "cell_type": "code",
   "execution_count": 91,
   "metadata": {
    "collapsed": false
   },
   "outputs": [
    {
     "data": {
      "image/png": "[encoded data removed]",
      "text/plain": [
       "<matplotlib.figure.Figure at 0x7f569be4f5f8>"
      ]
     },
     "metadata": {},
     "output_type": "display_data"
    }
   ],
   "source": [
    "plt.show()"
   ]
  },
  {
   "cell_type": "code",
   "execution_count": 93,
   "metadata": {
    "collapsed": false
   },
   "outputs": [],
   "source": [
    "import datetime"
   ]
  },
  {
   "cell_type": "code",
   "execution_count": 94,
   "metadata": {
    "collapsed": false
   },
   "outputs": [
    {
     "data": {
      "text/plain": [
       "datetime.datetime(2017, 3, 30, 19, 25, 6, 150518)"
      ]
     },
     "execution_count": 94,
     "metadata": {},
     "output_type": "execute_result"
    }
   ],
   "source": [
    "datetime.datetime.today()"
   ]
  },
  {
   "cell_type": "code",
   "execution_count": 95,
   "metadata": {
    "collapsed": true
   },
   "outputs": [],
   "source": [
    "time_1 = datetime.datetime.today()"
   ]
  },
  {
   "cell_type": "code",
   "execution_count": 96,
   "metadata": {
    "collapsed": true
   },
   "outputs": [],
   "source": [
    "time_2 = datetime.datetime.today()"
   ]
  },
  {
   "cell_type": "code",
   "execution_count": 97,
   "metadata": {
    "collapsed": false
   },
   "outputs": [
    {
     "data": {
      "text/plain": [
       "datetime.timedelta(0, 12, 799503)"
      ]
     },
     "execution_count": 97,
     "metadata": {},
     "output_type": "execute_result"
    }
   ],
   "source": [
    "time_2 - time_1"
   ]
  },
  {
   "cell_type": "code",
   "execution_count": 99,
   "metadata": {
    "collapsed": false
   },
   "outputs": [],
   "source": [
    "date_str = birddata.date_time[0]"
   ]
  },
  {
   "cell_type": "code",
   "execution_count": 100,
   "metadata": {
    "collapsed": false
   },
   "outputs": [
    {
     "data": {
      "text/plain": [
       "'2013-08-15 00:18:08+00'"
      ]
     },
     "execution_count": 100,
     "metadata": {},
     "output_type": "execute_result"
    }
   ],
   "source": [
    "date_str"
   ]
  },
  {
   "cell_type": "code",
   "execution_count": 101,
   "metadata": {
    "collapsed": false
   },
   "outputs": [
    {
     "data": {
      "text/plain": [
       "str"
      ]
     },
     "execution_count": 101,
     "metadata": {},
     "output_type": "execute_result"
    }
   ],
   "source": [
    "type(date_str)"
   ]
  },
  {
   "cell_type": "code",
   "execution_count": 102,
   "metadata": {
    "collapsed": false
   },
   "outputs": [
    {
     "data": {
      "text/plain": [
       "'2013-08-15 00:18:08'"
      ]
     },
     "execution_count": 102,
     "metadata": {},
     "output_type": "execute_result"
    }
   ],
   "source": [
    "date_str[:-3]"
   ]
  },
  {
   "cell_type": "code",
   "execution_count": 103,
   "metadata": {
    "collapsed": false
   },
   "outputs": [
    {
     "data": {
      "text/plain": [
       "datetime.datetime(2013, 8, 15, 0, 18, 8)"
      ]
     },
     "execution_count": 103,
     "metadata": {},
     "output_type": "execute_result"
    }
   ],
   "source": [
    "datetime.datetime.strptime(date_str[:-3], \"%Y-%m-%d %H:%M:%S\")"
   ]
  },
  {
   "cell_type": "code",
   "execution_count": 106,
   "metadata": {
    "collapsed": false
   },
   "outputs": [],
   "source": [
    "timestamps = []\n",
    "\n",
    "for k in range(len(birddata)):\n",
    "    timestamps.append(datetime.datetime.strptime(birddata.date_time.iloc[k][:-3], \"%Y-%m-%d %H:%M:%S\"))"
   ]
  },
  {
   "cell_type": "code",
   "execution_count": 107,
   "metadata": {
    "collapsed": false
   },
   "outputs": [
    {
     "data": {
      "text/plain": [
       "[datetime.datetime(2013, 8, 15, 0, 18, 8),\n",
       " datetime.datetime(2013, 8, 15, 0, 48, 7),\n",
       " datetime.datetime(2013, 8, 15, 1, 17, 58)]"
      ]
     },
     "execution_count": 107,
     "metadata": {},
     "output_type": "execute_result"
    }
   ],
   "source": [
    "timestamps[0:3]"
   ]
  },
  {
   "cell_type": "code",
   "execution_count": 108,
   "metadata": {
    "collapsed": true
   },
   "outputs": [],
   "source": [
    "birddata[\"timestamp\"] = pd.Series(timestamps, index = birddata.index)"
   ]
  },
  {
   "cell_type": "code",
   "execution_count": 109,
   "metadata": {
    "collapsed": false
   },
   "outputs": [
    {
     "data": {
      "text/html": [
       "<div>\n",
       "<table border=\"1\" class=\"dataframe\">\n",
       "  <thead>\n",
       "    <tr style=\"text-align: right;\">\n",
       "      <th></th>\n",
       "      <th>altitude</th>\n",
       "      <th>date_time</th>\n",
       "      <th>device_info_serial</th>\n",
       "      <th>direction</th>\n",
       "      <th>latitude</th>\n",
       "      <th>longitude</th>\n",
       "      <th>speed_2d</th>\n",
       "      <th>bird_name</th>\n",
       "      <th>timestamp</th>\n",
       "    </tr>\n",
       "  </thead>\n",
       "  <tbody>\n",
       "    <tr>\n",
       "      <th>0</th>\n",
       "      <td>71</td>\n",
       "      <td>2013-08-15 00:18:08+00</td>\n",
       "      <td>851</td>\n",
       "      <td>-150.469753</td>\n",
       "      <td>49.419859</td>\n",
       "      <td>2.120733</td>\n",
       "      <td>0.150000</td>\n",
       "      <td>Eric</td>\n",
       "      <td>2013-08-15 00:18:08</td>\n",
       "    </tr>\n",
       "    <tr>\n",
       "      <th>1</th>\n",
       "      <td>68</td>\n",
       "      <td>2013-08-15 00:48:07+00</td>\n",
       "      <td>851</td>\n",
       "      <td>-136.151141</td>\n",
       "      <td>49.419880</td>\n",
       "      <td>2.120746</td>\n",
       "      <td>2.438360</td>\n",
       "      <td>Eric</td>\n",
       "      <td>2013-08-15 00:48:07</td>\n",
       "    </tr>\n",
       "    <tr>\n",
       "      <th>2</th>\n",
       "      <td>68</td>\n",
       "      <td>2013-08-15 01:17:58+00</td>\n",
       "      <td>851</td>\n",
       "      <td>160.797477</td>\n",
       "      <td>49.420310</td>\n",
       "      <td>2.120885</td>\n",
       "      <td>0.596657</td>\n",
       "      <td>Eric</td>\n",
       "      <td>2013-08-15 01:17:58</td>\n",
       "    </tr>\n",
       "    <tr>\n",
       "      <th>3</th>\n",
       "      <td>73</td>\n",
       "      <td>2013-08-15 01:47:51+00</td>\n",
       "      <td>851</td>\n",
       "      <td>32.769360</td>\n",
       "      <td>49.420359</td>\n",
       "      <td>2.120859</td>\n",
       "      <td>0.310161</td>\n",
       "      <td>Eric</td>\n",
       "      <td>2013-08-15 01:47:51</td>\n",
       "    </tr>\n",
       "    <tr>\n",
       "      <th>4</th>\n",
       "      <td>69</td>\n",
       "      <td>2013-08-15 02:17:42+00</td>\n",
       "      <td>851</td>\n",
       "      <td>45.191230</td>\n",
       "      <td>49.420331</td>\n",
       "      <td>2.120887</td>\n",
       "      <td>0.193132</td>\n",
       "      <td>Eric</td>\n",
       "      <td>2013-08-15 02:17:42</td>\n",
       "    </tr>\n",
       "  </tbody>\n",
       "</table>\n",
       "</div>"
      ],
      "text/plain": [
       "   altitude               date_time  device_info_serial   direction  \\\n",
       "0        71  2013-08-15 00:18:08+00                 851 -150.469753   \n",
       "1        68  2013-08-15 00:48:07+00                 851 -136.151141   \n",
       "2        68  2013-08-15 01:17:58+00                 851  160.797477   \n",
       "3        73  2013-08-15 01:47:51+00                 851   32.769360   \n",
       "4        69  2013-08-15 02:17:42+00                 851   45.191230   \n",
       "\n",
       "    latitude  longitude  speed_2d bird_name           timestamp  \n",
       "0  49.419859   2.120733  0.150000      Eric 2013-08-15 00:18:08  \n",
       "1  49.419880   2.120746  2.438360      Eric 2013-08-15 00:48:07  \n",
       "2  49.420310   2.120885  0.596657      Eric 2013-08-15 01:17:58  \n",
       "3  49.420359   2.120859  0.310161      Eric 2013-08-15 01:47:51  \n",
       "4  49.420331   2.120887  0.193132      Eric 2013-08-15 02:17:42  "
      ]
     },
     "execution_count": 109,
     "metadata": {},
     "output_type": "execute_result"
    }
   ],
   "source": [
    "birddata.head()"
   ]
  },
  {
   "cell_type": "code",
   "execution_count": 110,
   "metadata": {
    "collapsed": true
   },
   "outputs": [],
   "source": [
    "times = birddata.timestamp[birddata.bird_name==\"Eric\"]\n",
    "elapsed_time = [time - times[0] for time in times]"
   ]
  },
  {
   "cell_type": "code",
   "execution_count": 111,
   "metadata": {
    "collapsed": false
   },
   "outputs": [
    {
     "data": {
      "text/plain": [
       "Timedelta('0 days 00:00:00')"
      ]
     },
     "execution_count": 111,
     "metadata": {},
     "output_type": "execute_result"
    }
   ],
   "source": [
    "elapsed_time[0]"
   ]
  },
  {
   "cell_type": "code",
   "execution_count": 113,
   "metadata": {
    "collapsed": false
   },
   "outputs": [
    {
     "data": {
      "text/plain": [
       "Timedelta('12 days 02:02:00')"
      ]
     },
     "execution_count": 113,
     "metadata": {},
     "output_type": "execute_result"
    }
   ],
   "source": [
    "elapsed_time[1000]"
   ]
  },
  {
   "cell_type": "code",
   "execution_count": 114,
   "metadata": {
    "collapsed": false
   },
   "outputs": [
    {
     "data": {
      "text/plain": [
       "<matplotlib.text.Text at 0x7f569bea8400>"
      ]
     },
     "execution_count": 114,
     "metadata": {},
     "output_type": "execute_result"
    }
   ],
   "source": [
    "plt.plot(np.array(elapsed_time) / datetime.timedelta(days=1))\n",
    "plt.xlabel(\"Observation\")\n",
    "plt.ylabel(\"Elapsed time (days)\")"
   ]
  },
  {
   "cell_type": "code",
   "execution_count": 115,
   "metadata": {
    "collapsed": false
   },
   "outputs": [
    {
     "data": {
      "image/png": "[encoded data removed]",
      "text/plain": [
       "<matplotlib.figure.Figure at 0x7f569d217e80>"
      ]
     },
     "metadata": {},
     "output_type": "display_data"
    }
   ],
   "source": [
    "plt.show()"
   ]
  },
  {
   "cell_type": "code",
   "execution_count": 123,
   "metadata": {
    "collapsed": false
   },
   "outputs": [],
   "source": [
    "data = birddata[birddata.bird_name == \"Eric\"]\n",
    "time = data.timestamp\n",
    "elapsed_time = [time - times[0] for time in times]\n",
    "elapsed_days = np.array(elapsed_time) / datetime.timedelta(days=1)\n",
    "\n",
    "next_day = 1\n",
    "ind = []\n",
    "daily_mean_speed = []\n",
    "\n",
    "for (i,t) in enumerate(elapsed_days):\n",
    "    if t < next_day:\n",
    "        ind.append(i)\n",
    "    else:\n",
    "        daily_mean_speed.append(np.mean(data.speed_2d[ind]))\n",
    "        next_day += 1\n",
    "        ind = []"
   ]
  },
  {
   "cell_type": "code",
   "execution_count": 124,
   "metadata": {
    "collapsed": false
   },
   "outputs": [
    {
     "data": {
      "text/plain": [
       "[2.121516513619244,\n",
       " 2.619105236695279,\n",
       " 1.7863149983905395,\n",
       " 2.9454235893858662,\n",
       " 2.4762427460803886,\n",
       " 1.8477070902332322,\n",
       " 2.560404356375535,\n",
       " 1.482814303345286,\n",
       " 1.6162885950348576,\n",
       " 1.5220367121305791,\n",
       " 2.028393720085181,\n",
       " 1.7402841957023534,\n",
       " 1.5411246572674582,\n",
       " 2.110516034907192,\n",
       " 2.0219116434979787,\n",
       " 2.689771361985732,\n",
       " 2.351241357863496,\n",
       " 2.659076347659485,\n",
       " 2.9416171622419505,\n",
       " 1.898409764788526,\n",
       " 2.3327509804317934,\n",
       " 1.6072552805767766,\n",
       " 1.7682757593059097,\n",
       " 2.9943046312787565,\n",
       " 1.9085264007103804,\n",
       " 1.3634392809056228,\n",
       " 2.0222477274232307,\n",
       " 2.72254039303825,\n",
       " 2.269189387498983,\n",
       " 2.0142790500748506,\n",
       " 2.822659710423693,\n",
       " 2.004075379375076,\n",
       " 1.7669075779904866,\n",
       " 1.9567174870023374,\n",
       " 1.6085815765274403,\n",
       " 2.1039007148615303,\n",
       " 2.0923230222020206,\n",
       " 2.077964508508884,\n",
       " 1.7590805790548523,\n",
       " 2.5642674569001462,\n",
       " 2.0224097745761993,\n",
       " 2.5242849164664367,\n",
       " 2.33621733355763,\n",
       " 2.1500196892882166,\n",
       " 1.6971102860729534,\n",
       " 3.175848894110063,\n",
       " 2.3345096275728086,\n",
       " 2.440327594446141,\n",
       " 1.8545408525983385,\n",
       " 2.613539217968263,\n",
       " 2.297413747296553,\n",
       " 2.432453781105371,\n",
       " 2.962612905824155,\n",
       " 2.1222193592346805,\n",
       " 1.8136531068187747,\n",
       " 1.935469965874147,\n",
       " 2.6317902284489283,\n",
       " 2.5445527644765145,\n",
       " 1.456092643068699,\n",
       " 1.5659878373749356,\n",
       " 1.7894174040260635,\n",
       " 2.2603747705599693,\n",
       " 1.6281606490734568,\n",
       " 2.381668701114348,\n",
       " 1.6564022407476424,\n",
       " 2.627102162415734,\n",
       " 2.0305021151137885,\n",
       " 1.7058024046430342,\n",
       " 2.3570196404421573,\n",
       " 1.5179740149001573,\n",
       " 1.647260052465282,\n",
       " 1.5772124980269475,\n",
       " 1.3134525124655947,\n",
       " nan,\n",
       " nan,\n",
       " nan,\n",
       " 1.5653342427111416,\n",
       " 2.1777359206684666,\n",
       " 1.7568607166317873,\n",
       " 1.983458896684267,\n",
       " 2.3302455908309603,\n",
       " 2.13664533115119,\n",
       " 2.6874926071601064,\n",
       " nan,\n",
       " nan,\n",
       " nan,\n",
       " nan,\n",
       " 3.4395417842328766,\n",
       " 1.811769776243834,\n",
       " 3.150667991313341,\n",
       " 2.1690246470665513,\n",
       " 2.12135746112356,\n",
       " 9.048244023506927,\n",
       " 8.826903967305796,\n",
       " 5.9328477040556145,\n",
       " 3.918705583148009,\n",
       " 2.959060499593405,\n",
       " 2.064498161328598,\n",
       " 1.8721216756625956,\n",
       " 2.2383256649537477,\n",
       " 2.7131130811077475,\n",
       " 3.00527924714992,\n",
       " 3.2832725621047647,\n",
       " 1.9478234092812268,\n",
       " 1.776920723211552,\n",
       " 1.3550108416109625,\n",
       " 1.959434397818557,\n",
       " 1.8930022635333175,\n",
       " 2.3633978365641752,\n",
       " 1.9762837847010732,\n",
       " 1.720389220690801,\n",
       " 2.203282466545707,\n",
       " 1.9015663464631933,\n",
       " 3.566979210671948,\n",
       " 2.071156405887064,\n",
       " 2.030401179250342,\n",
       " 2.27221035846362,\n",
       " 2.1172472473991193,\n",
       " 1.9054844300364757,\n",
       " 2.2919005333614644,\n",
       " 1.6221774061755945,\n",
       " 2.3533126455042397,\n",
       " 2.2313985988593426,\n",
       " 1.81509163843819,\n",
       " 2.4613269490881913,\n",
       " 2.1061139660580577,\n",
       " 2.196015777752809,\n",
       " 1.7742852703380778,\n",
       " 1.8400608477151976,\n",
       " 1.9243042514322295,\n",
       " 1.9482036118590644,\n",
       " 1.6840996292789274,\n",
       " 2.286917821116058,\n",
       " 1.80056015498024,\n",
       " 2.2767918644912966,\n",
       " 2.0345436072507903,\n",
       " 1.4650201471768203,\n",
       " 2.4717620697084284,\n",
       " 2.4407785835352414,\n",
       " 1.9696062058869956,\n",
       " 2.15827112350088,\n",
       " 1.3921167257424656,\n",
       " 2.1886531168560883,\n",
       " 2.5107922409768406,\n",
       " 2.1785277301862385,\n",
       " 2.470211010158352,\n",
       " 1.919086330212443,\n",
       " 1.8604651459760895,\n",
       " 2.142713546851198,\n",
       " 2.0596373626991604,\n",
       " 2.2202996638747003,\n",
       " 1.657208862635136,\n",
       " 3.0980776462360837,\n",
       " 2.635484069322585,\n",
       " 2.9805302740579025,\n",
       " 2.4369461963903483,\n",
       " 3.254920981324078,\n",
       " 3.3982285057378823,\n",
       " 1.7022695745453236,\n",
       " 2.0338351221129964,\n",
       " 2.4152614430374304,\n",
       " 2.0783574963133526,\n",
       " 2.4311794525661283,\n",
       " 3.0633369701704125,\n",
       " 2.4411695900864516,\n",
       " 2.2875564514115925,\n",
       " 2.1932281124008344,\n",
       " 1.9555717667925747,\n",
       " 1.3396665611179304,\n",
       " 2.1237882355254705,\n",
       " 1.8124389664808664,\n",
       " 1.726693091947504,\n",
       " 1.6745014239139375,\n",
       " 1.7662419001193,\n",
       " 2.165883290469568,\n",
       " 1.9495195816674589,\n",
       " 2.046483781150859,\n",
       " 1.5967131032791022,\n",
       " 1.8861424937204592,\n",
       " 1.5524381669762244,\n",
       " 1.3226208689755394,\n",
       " 1.479028699905744,\n",
       " 2.6591814064088566,\n",
       " 1.5322903795908185,\n",
       " 2.100685876791113,\n",
       " 1.6922350623299252,\n",
       " 2.3726695411494063,\n",
       " 2.4418504678191106,\n",
       " 2.2793559294525862,\n",
       " 2.2804330242385538,\n",
       " 2.027041332442766,\n",
       " 2.529144264138359,\n",
       " 1.718318624490094,\n",
       " 1.8651079143858402,\n",
       " 1.7076479341418973,\n",
       " 1.9514306495374019,\n",
       " 1.5283748778923256,\n",
       " 1.6281146857464055,\n",
       " 1.6909251510078327,\n",
       " 3.061293104357373,\n",
       " 1.7161185001805965,\n",
       " 1.8436703466172442,\n",
       " 1.9643563441506584,\n",
       " 1.882344206432697,\n",
       " 2.637955390011485,\n",
       " 2.1224335492437683,\n",
       " 2.9047132975576524,\n",
       " 1.5542921111975516,\n",
       " 1.9812989042656752,\n",
       " 1.587905005718193,\n",
       " 1.3906634455038063,\n",
       " 2.0314171102903162,\n",
       " 1.7510089941182139,\n",
       " 1.9094653332720863,\n",
       " 1.5754886717166088,\n",
       " 1.6124598010327702,\n",
       " 1.5263387635556809,\n",
       " 2.341874433720624,\n",
       " 1.8266252310144924,\n",
       " 1.6069739441251398,\n",
       " 1.6840916916995292,\n",
       " 1.6153448221831932,\n",
       " 1.8150030335697755,\n",
       " 1.9434609043663928,\n",
       " 1.4059186833786552,\n",
       " 1.800059249347373,\n",
       " 2.124896889013808,\n",
       " 6.627859778561027,\n",
       " 4.831253603859217,\n",
       " 9.093687210825962,\n",
       " 3.208169834426288,\n",
       " 4.568295689532004,\n",
       " 9.297642287291733,\n",
       " 6.705966291214969,\n",
       " 2.8926142659107574,\n",
       " 3.3643467137622918,\n",
       " 1.9296658101083508,\n",
       " 2.3749318711137475,\n",
       " 3.28743259195921,\n",
       " 1.7002107587874324,\n",
       " 3.233069328452004,\n",
       " 2.6958022883652886,\n",
       " 1.8249677553335517,\n",
       " 2.060647485222335,\n",
       " 1.529203842644519,\n",
       " 1.7308482880255465,\n",
       " 3.1136731920864404,\n",
       " 1.3322140903252528,\n",
       " 2.969257281327789,\n",
       " 3.24219204129494,\n",
       " 2.0318439689482513,\n",
       " 1.976831137567437,\n",
       " 2.174344017224991,\n",
       " 2.6740131683897874,\n",
       " 2.1152364196479394,\n",
       " 2.7490039358771843,\n",
       " 2.14835126073764,\n",
       " 2.228820334981558]"
      ]
     },
     "execution_count": 124,
     "metadata": {},
     "output_type": "execute_result"
    }
   ],
   "source": [
    "daily_mean_speed"
   ]
  },
  {
   "cell_type": "code",
   "execution_count": 125,
   "metadata": {
    "collapsed": false
   },
   "outputs": [
    {
     "data": {
      "text/plain": [
       "<matplotlib.text.Text at 0x7f569d2b8668>"
      ]
     },
     "execution_count": 125,
     "metadata": {},
     "output_type": "execute_result"
    }
   ],
   "source": [
    "plt.figure(figsize=(8,6))\n",
    "plt.plot(daily_mean_speed)\n",
    "plt.xlabel(\"Day\")\n",
    "plt.ylabel(\"Mean speed (m/s)\")"
   ]
  },
  {
   "cell_type": "code",
   "execution_count": 126,
   "metadata": {
    "collapsed": false
   },
   "outputs": [
    {
     "data": {
      "image/png": "[encoded data removed]",
      "text/plain": [
       "<matplotlib.figure.Figure at 0x7f569c3d9438>"
      ]
     },
     "metadata": {},
     "output_type": "display_data"
    }
   ],
   "source": [
    "plt.show()"
   ]
  },
  {
   "cell_type": "code",
   "execution_count": 128,
   "metadata": {
    "collapsed": false
   },
   "outputs": [
    {
     "data": {
      "text/html": [
       "<div>\n",
       "<table border=\"1\" class=\"dataframe\">\n",
       "  <thead>\n",
       "    <tr style=\"text-align: right;\">\n",
       "      <th></th>\n",
       "      <th>altitude</th>\n",
       "      <th>date_time</th>\n",
       "      <th>device_info_serial</th>\n",
       "      <th>direction</th>\n",
       "      <th>latitude</th>\n",
       "      <th>longitude</th>\n",
       "      <th>speed_2d</th>\n",
       "      <th>bird_name</th>\n",
       "      <th>timestamp</th>\n",
       "    </tr>\n",
       "  </thead>\n",
       "  <tbody>\n",
       "    <tr>\n",
       "      <th>40916</th>\n",
       "      <td>55</td>\n",
       "      <td>2013-08-15 00:01:08+00</td>\n",
       "      <td>833</td>\n",
       "      <td>-91.499509</td>\n",
       "      <td>49.931065</td>\n",
       "      <td>2.281893</td>\n",
       "      <td>0.372156</td>\n",
       "      <td>Sanne</td>\n",
       "      <td>2013-08-15 00:01:08</td>\n",
       "    </tr>\n",
       "    <tr>\n",
       "      <th>40917</th>\n",
       "      <td>54</td>\n",
       "      <td>2013-08-15 00:31:00+00</td>\n",
       "      <td>833</td>\n",
       "      <td>-141.804053</td>\n",
       "      <td>49.931076</td>\n",
       "      <td>2.281900</td>\n",
       "      <td>1.318484</td>\n",
       "      <td>Sanne</td>\n",
       "      <td>2013-08-15 00:31:00</td>\n",
       "    </tr>\n",
       "    <tr>\n",
       "      <th>40918</th>\n",
       "      <td>55</td>\n",
       "      <td>2013-08-15 01:01:19+00</td>\n",
       "      <td>833</td>\n",
       "      <td>-10.651840</td>\n",
       "      <td>49.931016</td>\n",
       "      <td>2.281933</td>\n",
       "      <td>0.076158</td>\n",
       "      <td>Sanne</td>\n",
       "      <td>2013-08-15 01:01:19</td>\n",
       "    </tr>\n",
       "    <tr>\n",
       "      <th>40919</th>\n",
       "      <td>56</td>\n",
       "      <td>2013-08-15 01:31:38+00</td>\n",
       "      <td>833</td>\n",
       "      <td>14.727689</td>\n",
       "      <td>49.931053</td>\n",
       "      <td>2.281911</td>\n",
       "      <td>0.014142</td>\n",
       "      <td>Sanne</td>\n",
       "      <td>2013-08-15 01:31:38</td>\n",
       "    </tr>\n",
       "    <tr>\n",
       "      <th>40920</th>\n",
       "      <td>55</td>\n",
       "      <td>2013-08-15 02:01:24+00</td>\n",
       "      <td>833</td>\n",
       "      <td>-169.882200</td>\n",
       "      <td>49.931042</td>\n",
       "      <td>2.281893</td>\n",
       "      <td>0.094340</td>\n",
       "      <td>Sanne</td>\n",
       "      <td>2013-08-15 02:01:24</td>\n",
       "    </tr>\n",
       "  </tbody>\n",
       "</table>\n",
       "</div>"
      ],
      "text/plain": [
       "       altitude               date_time  device_info_serial   direction  \\\n",
       "40916        55  2013-08-15 00:01:08+00                 833  -91.499509   \n",
       "40917        54  2013-08-15 00:31:00+00                 833 -141.804053   \n",
       "40918        55  2013-08-15 01:01:19+00                 833  -10.651840   \n",
       "40919        56  2013-08-15 01:31:38+00                 833   14.727689   \n",
       "40920        55  2013-08-15 02:01:24+00                 833 -169.882200   \n",
       "\n",
       "        latitude  longitude  speed_2d bird_name           timestamp  \n",
       "40916  49.931065   2.281893  0.372156     Sanne 2013-08-15 00:01:08  \n",
       "40917  49.931076   2.281900  1.318484     Sanne 2013-08-15 00:31:00  \n",
       "40918  49.931016   2.281933  0.076158     Sanne 2013-08-15 01:01:19  \n",
       "40919  49.931053   2.281911  0.014142     Sanne 2013-08-15 01:31:38  \n",
       "40920  49.931042   2.281893  0.094340     Sanne 2013-08-15 02:01:24  "
      ]
     },
     "execution_count": 128,
     "metadata": {},
     "output_type": "execute_result"
    }
   ],
   "source": [
    "birddata[birddata.bird_name==\"Sanne\"].head()"
   ]
  },
  {
   "cell_type": "code",
   "execution_count": null,
   "metadata": {
    "collapsed": true
   },
   "outputs": [],
   "source": []
  }
 ],
 "metadata": {
  "kernelspec": {
   "display_name": "Python 3",
   "language": "python",
   "name": "python3"
  },
  "language_info": {
   "codemirror_mode": {
    "name": "ipython",
    "version": 3
   },
   "file_extension": ".py",
   "mimetype": "text/x-python",
   "name": "python",
   "nbconvert_exporter": "python",
   "pygments_lexer": "ipython3",
   "version": "3.6.0"
  }
 },
 "nbformat": 4,
 "nbformat_minor": 2
}
